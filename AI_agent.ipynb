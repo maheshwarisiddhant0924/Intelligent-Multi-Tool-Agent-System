{
  "nbformat": 4,
  "nbformat_minor": 0,
  "metadata": {
    "colab": {
      "provenance": []
    },
    "kernelspec": {
      "name": "python3",
      "display_name": "Python 3"
    },
    "language_info": {
      "name": "python"
    }
  },
  "cells": [
    {
      "cell_type": "code",
      "execution_count": 1,
      "metadata": {
        "colab": {
          "base_uri": "https://localhost:8080/"
        },
        "id": "IbN2Xe9rTcg0",
        "outputId": "525de570-c2a1-499d-b221-bf6be440b4be"
      },
      "outputs": [
        {
          "output_type": "stream",
          "name": "stdout",
          "text": [
            "\u001b[?25l   \u001b[90m━━━━━━━━━━━━━━━━━━━━━━━━━━━━━━━━━━━━━━━━\u001b[0m \u001b[32m0.0/2.5 MB\u001b[0m \u001b[31m?\u001b[0m eta \u001b[36m-:--:--\u001b[0m\r\u001b[2K   \u001b[91m━━━━━━━━━━━━━━━━━━━━━━━━━━━━━━━━━\u001b[0m\u001b[91m╸\u001b[0m\u001b[90m━━━━━━\u001b[0m \u001b[32m2.2/2.5 MB\u001b[0m \u001b[31m63.8 MB/s\u001b[0m eta \u001b[36m0:00:01\u001b[0m\r\u001b[2K   \u001b[90m━━━━━━━━━━━━━━━━━━━━━━━━━━━━━━━━━━━━━━━━\u001b[0m \u001b[32m2.5/2.5 MB\u001b[0m \u001b[31m44.3 MB/s\u001b[0m eta \u001b[36m0:00:00\u001b[0m\n",
            "\u001b[2K   \u001b[90m━━━━━━━━━━━━━━━━━━━━━━━━━━━━━━━━━━━━━━━━\u001b[0m \u001b[32m41.6/41.6 kB\u001b[0m \u001b[31m3.3 MB/s\u001b[0m eta \u001b[36m0:00:00\u001b[0m\n",
            "\u001b[2K   \u001b[90m━━━━━━━━━━━━━━━━━━━━━━━━━━━━━━━━━━━━━━━━\u001b[0m \u001b[32m5.3/5.3 MB\u001b[0m \u001b[31m104.3 MB/s\u001b[0m eta \u001b[36m0:00:00\u001b[0m\n",
            "\u001b[2K   \u001b[90m━━━━━━━━━━━━━━━━━━━━━━━━━━━━━━━━━━━━━━━━\u001b[0m \u001b[32m3.3/3.3 MB\u001b[0m \u001b[31m98.9 MB/s\u001b[0m eta \u001b[36m0:00:00\u001b[0m\n",
            "\u001b[2K   \u001b[90m━━━━━━━━━━━━━━━━━━━━━━━━━━━━━━━━━━━━━━━━\u001b[0m \u001b[32m64.7/64.7 kB\u001b[0m \u001b[31m4.8 MB/s\u001b[0m eta \u001b[36m0:00:00\u001b[0m\n",
            "\u001b[2K   \u001b[90m━━━━━━━━━━━━━━━━━━━━━━━━━━━━━━━━━━━━━━━━\u001b[0m \u001b[32m50.9/50.9 kB\u001b[0m \u001b[31m4.2 MB/s\u001b[0m eta \u001b[36m0:00:00\u001b[0m\n",
            "\u001b[?25h\u001b[31mERROR: pip's dependency resolver does not currently take into account all the packages that are installed. This behaviour is the source of the following dependency conflicts.\n",
            "google-colab 1.0.0 requires requests==2.32.4, but you have requests 2.32.5 which is incompatible.\u001b[0m\u001b[31m\n",
            "\u001b[0m"
          ]
        }
      ],
      "source": [
        "!pip install -q langchain-huggingface langchain-community ddgs"
      ]
    },
    {
      "cell_type": "code",
      "source": [
        "import os\n",
        "from langchain_huggingface import ChatHuggingFace, HuggingFaceEndpoint\n",
        "from langchain.agents import create_react_agent, AgentExecutor\n",
        "from langchain import hub\n",
        "from langchain_community.tools import DuckDuckGoSearchRun\n",
        "from langchain.tools import tool\n",
        "import requests"
      ],
      "metadata": {
        "id": "ZVl1TzIRWGBi"
      },
      "execution_count": 21,
      "outputs": []
    },
    {
      "cell_type": "code",
      "source": [
        "from google.colab import userdata\n",
        "os.environ['HUGGINGFACEHUB_API_TOKEN'] = userdata.get('HF_TOKEN')\n"
      ],
      "metadata": {
        "id": "Q1M6zbi1TocR"
      },
      "execution_count": 4,
      "outputs": []
    },
    {
      "cell_type": "code",
      "source": [
        "llm = HuggingFaceEndpoint(\n",
        "    repo_id=\"meta-llama/Meta-Llama-3-8B-Instruct\",\n",
        "    task=\"text-generation\",  
        "    max_new_tokens=512,\n",
        "    do_sample=False,\n",
        ")"
      ],
      "metadata": {
        "id": "yn9sR0F5Tt6F"
      },
      "execution_count": 5,
      "outputs": []
    },
    {
      "cell_type": "code",
      "source": [
        "model = ChatHuggingFace(llm=llm)"
      ],
      "metadata": {
        "id": "ZkYX5FCgTxLh"
      },
      "execution_count": 6,
      "outputs": []
    },
    {
      "cell_type": "code",
      "source": [
        "search_tool = DuckDuckGoSearchRun()"
      ],
      "metadata": {
        "id": "8WJSY750Tzqn"
      },
      "execution_count": 7,
      "outputs": []
    },
    {
      "cell_type": "code",
      "source": [
        "@tool\n",
        "def get_weather_data(city: str) -> str:\n",
        "    url = f'https://api.weatherstack.com/current?access_key=4d1d8ae207a8c845a52df8a67bf3623e&query={city}'\n",
        "    response = requests.get(url)\n",
        "    return str(response.json())"
      ],
      "metadata": {
        "id": "6oLLDIV0T1m4"
      },
      "execution_count": 8,
      "outputs": []
    },
    {
      "cell_type": "code",
      "source": [
        "prompt = hub.pull(\"hwchase17/react\")"
      ],
      "metadata": {
        "id": "CDRX9rkAT3tV"
      },
      "execution_count": 9,
      "outputs": []
    },
    {
      "cell_type": "code",
      "source": [
        "agent = create_react_agent(\n",
        "    llm=model,\n",
        "    tools=[search_tool, get_weather_data],\n",
        "    prompt=prompt\n",
        ")"
      ],
      "metadata": {
        "id": "Zm4NQOp1T5gm"
      },
      "execution_count": 10,
      "outputs": []
    },
    {
      "cell_type": "code",
      "source": [
        "agent_executor = AgentExecutor(\n",
        "    agent=agent,\n",
        "    tools=[search_tool, get_weather_data],\n",
        "    verbose=True,\n",
        "    handle_parsing_errors=True,\n",
        "    max_iterations=5\n",
        ")"
      ],
      "metadata": {
        "id": "Dqcz_cE9T7Ga"
      },
      "execution_count": 11,
      "outputs": []
    },
    {
      "cell_type": "code",
      "source": [
        "response = agent_executor.invoke({\n",
        "    \"input\": \"Find the capital of Madhya Pradesh, then find its current weather condition\"\n",
        "})\n",
        "print(\"\\n\\nFinal Answer:\")\n",
        "print(response['output'])"
      ],
      "metadata": {
        "colab": {
          "base_uri": "https://localhost:8080/"
        },
        "id": "_1hUmAjRVznP",
        "outputId": "7bcc6ef5-1296-4497-c0e9-41374c668a9e"
      },
      "execution_count": 22,
      "outputs": [
        {
          "output_type": "stream",
          "name": "stdout",
          "text": [
            "\n",
            "\n",
            "\u001b[1m> Entering new AgentExecutor chain...\u001b[0m\n",
            "\u001b[32;1m\u001b[1;3mThought: To find the capital of Madhya Pradesh, I should look for information about the state.\n",
            "Action: duckduckgo_search\n",
            "Action Input: \"capital of Madhya Pradesh\"\u001b[0m\u001b[36;1m\u001b[1;3mAfter the independence of India, Madhya Pradesh was created in 1950 from the former British Central Provinces and Berar and the princely states of Makrai and Chhattisgarh, with Nagpur … This list provides the capital cities of all the states and union territories in India, ordered alphabetically by state. The list also provides the population of the cities based on the most recent census conducted in India (2011). Bhopal is the capital city of Madhya Pradesh , known for its historical significance, lakes, and rich cultural heritage. It serves as the political and administrative hub, housing the Madhya Pradesh Legislative Assembly, Secretariat, and High Court Bench. Madhya Pradesh has 55 districts and its total area is around 3,08,252 square kilometers. Madhya Pradesh's capital and state headquarter is Bhopal. The population of Madhya Pradesh in 2025 is more than 9.1 crore. Madhya Pradesh's main languages are Hindi, Malvi, Bundeli, and Nimadi. In summary, Bhopal is the capital of Madhya Pradesh—centrally located, historically significant, and vital for administrative functions. Bhopal’s status as capital helps students in exams, …\u001b[0m\u001b[32;1m\u001b[1;3mThought: Now that I know the capital of Madhya Pradesh is Bhopal, I should check the current weather condition in Bhopal.\n",
            "Action: get_weather_data\n",
            "Action Input: Bhopal\u001b[0m\u001b[33;1m\u001b[1;3m{'request': {'type': 'City', 'query': 'Bhopal, India', 'language': 'en', 'unit': 'm'}, 'location': {'name': 'Bhopal', 'country': 'India', 'region': 'Madhya Pradesh', 'lat': '23.267', 'lon': '77.400', 'timezone_id': 'Asia/Kolkata', 'localtime': '2025-10-05 17:57', 'localtime_epoch': 1759687020, 'utc_offset': '5.50'}, 'current': {'observation_time': '12:27 PM', 'temperature': 24, 'weather_code': 389, 'weather_icons': ['https://cdn.worldweatheronline.com/images/wsymbols01_png_64/wsymbol_0024_thunderstorms.png'], 'weather_descriptions': ['Light Rain With Thunderstorm'], 'astro': {'sunrise': '06:13 AM', 'sunset': '06:04 PM', 'moonrise': '04:51 PM', 'moonset': '04:05 AM', 'moon_phase': 'Waxing Gibbous', 'moon_illumination': 94}, 'air_quality': {'co': '232.85', 'no2': '2.35', 'o3': '113', 'so2': '5.75', 'pm2_5': '21.55', 'pm10': '24.75', 'us-epa-index': '2', 'gb-defra-index': '2'}, 'wind_speed': 9, 'wind_degree': 272, 'wind_dir': 'W', 'pressure': 1009, 'precip': 0.5, 'humidity': 89, 'cloudcover': 75, 'feelslike': 26, 'uv_index': 0, 'visibility': 3, 'is_day': 'yes'}}\u001b[0m\u001b[32;1m\u001b[1;3mThought: The capital of Madhya Pradesh is Bhopal, and I have the current weather condition in Bhopal.\n",
            "Thought: I now know the final answer.\n",
            "\n",
            "Final Answer: \n",
            "\n",
            "The capital of Madhya Pradesh is Bhopal. The current weather condition in Bhopal is Light Rain With Thunderstorm, with a temperature of 24 degrees Celsius.\u001b[0m\n",
            "\n",
            "\u001b[1m> Finished chain.\u001b[0m\n",
            "\n",
            "\n",
            "Final Answer:\n",
            "The capital of Madhya Pradesh is Bhopal. The current weather condition in Bhopal is Light Rain With Thunderstorm, with a temperature of 24 degrees Celsius.\n"
          ]
        }
      ]
    },
    {
      "cell_type": "code",
      "source": [],
      "metadata": {
        "id": "Po3CSp8oWNrh"
      },
      "execution_count": null,
      "outputs": []
    }
  ]
}
